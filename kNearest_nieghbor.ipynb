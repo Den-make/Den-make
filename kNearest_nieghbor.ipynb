{
  "nbformat": 4,
  "nbformat_minor": 0,
  "metadata": {
    "colab": {
      "name": "kNearest_nieghbor.ipynb",
      "provenance": [],
      "authorship_tag": "ABX9TyNFPjFcD4Bkv8F8TvVxXf2Y",
      "include_colab_link": true
    },
    "kernelspec": {
      "name": "python3",
      "display_name": "Python 3"
    },
    "language_info": {
      "name": "python"
    }
  },
  "cells": [
    {
      "cell_type": "markdown",
      "metadata": {
        "id": "view-in-github",
        "colab_type": "text"
      },
      "source": [
        "<a href=\"https://colab.research.google.com/github/Den-make/Den-make/blob/main/kNearest_nieghbor.ipynb\" target=\"_parent\"><img src=\"https://colab.research.google.com/assets/colab-badge.svg\" alt=\"Open In Colab\"/></a>"
      ]
    },
    {
      "cell_type": "markdown",
      "source": [
        "<h1>KNearest Nieghbor</h1>"
      ],
      "metadata": {
        "id": "0nadh-VsS4MQ"
      }
    },
    {
      "cell_type": "markdown",
      "source": [
        "<h2>Table contents</h2>"
      ],
      "metadata": {
        "id": "2odk5uc5Tpvm"
      }
    },
    {
      "cell_type": "code",
      "execution_count": null,
      "metadata": {
        "id": "wSeyDd4HSUyP"
      },
      "outputs": [],
      "source": [
        ""
      ]
    }
  ]
}